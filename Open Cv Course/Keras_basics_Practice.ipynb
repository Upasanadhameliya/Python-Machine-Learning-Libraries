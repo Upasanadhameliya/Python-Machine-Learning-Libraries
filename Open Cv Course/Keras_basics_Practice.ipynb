{
 "cells": [
  {
   "cell_type": "code",
   "execution_count": 20,
   "metadata": {},
   "outputs": [],
   "source": [
    "import numpy as np\n",
    "from sklearn.preprocessing import MinMaxScaler\n",
    "from sklearn.model_selection import train_test_split\n",
    "from keras.layers import Dense\n",
    "from sklearn.metrics import confusion_matrix, classification_report\n",
    "from keras.models import Sequential"
   ]
  },
  {
   "cell_type": "code",
   "execution_count": 21,
   "metadata": {},
   "outputs": [],
   "source": [
    "data = np.genfromtxt(\"../DATA/bank_note_data.txt\",delimiter = ',')"
   ]
  },
  {
   "cell_type": "code",
   "execution_count": 22,
   "metadata": {},
   "outputs": [
    {
     "data": {
      "text/plain": [
       "array([[  3.6216 ,   8.6661 ,  -2.8073 ,  -0.44699,   0.     ],\n",
       "       [  4.5459 ,   8.1674 ,  -2.4586 ,  -1.4621 ,   0.     ],\n",
       "       [  3.866  ,  -2.6383 ,   1.9242 ,   0.10645,   0.     ],\n",
       "       ...,\n",
       "       [ -3.7503 , -13.4586 ,  17.5932 ,  -2.7771 ,   1.     ],\n",
       "       [ -3.5637 ,  -8.3827 ,  12.393  ,  -1.2823 ,   1.     ],\n",
       "       [ -2.5419 ,  -0.65804,   2.6842 ,   1.1952 ,   1.     ]])"
      ]
     },
     "execution_count": 22,
     "metadata": {},
     "output_type": "execute_result"
    }
   ],
   "source": [
    "data"
   ]
  },
  {
   "cell_type": "code",
   "execution_count": 23,
   "metadata": {},
   "outputs": [
    {
     "data": {
      "text/plain": [
       "array([0., 0., 0., ..., 1., 1., 1.])"
      ]
     },
     "execution_count": 23,
     "metadata": {},
     "output_type": "execute_result"
    }
   ],
   "source": [
    "data[:,4]"
   ]
  },
  {
   "cell_type": "code",
   "execution_count": 24,
   "metadata": {},
   "outputs": [
    {
     "data": {
      "text/plain": [
       "array([[  3.6216 ,   8.6661 ,  -2.8073 ,  -0.44699],\n",
       "       [  4.5459 ,   8.1674 ,  -2.4586 ,  -1.4621 ],\n",
       "       [  3.866  ,  -2.6383 ,   1.9242 ,   0.10645],\n",
       "       ...,\n",
       "       [ -3.7503 , -13.4586 ,  17.5932 ,  -2.7771 ],\n",
       "       [ -3.5637 ,  -8.3827 ,  12.393  ,  -1.2823 ],\n",
       "       [ -2.5419 ,  -0.65804,   2.6842 ,   1.1952 ]])"
      ]
     },
     "execution_count": 24,
     "metadata": {},
     "output_type": "execute_result"
    }
   ],
   "source": [
    "data[:,:4]"
   ]
  },
  {
   "cell_type": "code",
   "execution_count": 25,
   "metadata": {},
   "outputs": [],
   "source": [
    "X = data[:,:4]\n",
    "y = data[:,4]"
   ]
  },
  {
   "cell_type": "code",
   "execution_count": 26,
   "metadata": {},
   "outputs": [],
   "source": [
    "X_train, X_test, y_train, y_test = train_test_split( X, y, test_size=0.3, random_state=42)"
   ]
  },
  {
   "cell_type": "code",
   "execution_count": 9,
   "metadata": {},
   "outputs": [],
   "source": [
    "scaler = MinMaxScaler()"
   ]
  },
  {
   "cell_type": "code",
   "execution_count": 27,
   "metadata": {},
   "outputs": [],
   "source": [
    "X_trainsc = scaler.fit_transform(X_train)"
   ]
  },
  {
   "cell_type": "code",
   "execution_count": 28,
   "metadata": {},
   "outputs": [],
   "source": [
    "X_testsc = scaler.transform(X_test)"
   ]
  },
  {
   "cell_type": "code",
   "execution_count": 29,
   "metadata": {},
   "outputs": [],
   "source": [
    "model = Sequential()"
   ]
  },
  {
   "cell_type": "code",
   "execution_count": 30,
   "metadata": {},
   "outputs": [],
   "source": [
    "model.add(Dense(4,activation='relu',input_dim=4))"
   ]
  },
  {
   "cell_type": "code",
   "execution_count": 31,
   "metadata": {},
   "outputs": [],
   "source": [
    "model.add(Dense(8,activation='relu'))"
   ]
  },
  {
   "cell_type": "code",
   "execution_count": 32,
   "metadata": {},
   "outputs": [],
   "source": [
    "model.add(Dense(1,activation='sigmoid'))"
   ]
  },
  {
   "cell_type": "code",
   "execution_count": 34,
   "metadata": {},
   "outputs": [],
   "source": [
    "model.compile(optimizer='adam',loss='binary_crossentropy',metrics=['accuracy'])"
   ]
  },
  {
   "cell_type": "code",
   "execution_count": 35,
   "metadata": {},
   "outputs": [
    {
     "name": "stdout",
     "output_type": "stream",
     "text": [
      "Epoch 1/50\n",
      " - 3s - loss: 0.7137 - acc: 0.4385\n",
      "Epoch 2/50\n",
      " - 0s - loss: 0.6884 - acc: 0.4875\n",
      "Epoch 3/50\n",
      " - 0s - loss: 0.6717 - acc: 0.5708\n",
      "Epoch 4/50\n",
      " - 0s - loss: 0.6593 - acc: 0.6135\n",
      "Epoch 5/50\n",
      " - 0s - loss: 0.6482 - acc: 0.6521\n",
      "Epoch 6/50\n",
      " - 0s - loss: 0.6374 - acc: 0.6740\n",
      "Epoch 7/50\n",
      " - 0s - loss: 0.6263 - acc: 0.6802\n",
      "Epoch 8/50\n",
      " - 0s - loss: 0.6142 - acc: 0.6917\n",
      "Epoch 9/50\n",
      " - 0s - loss: 0.6014 - acc: 0.7021\n",
      "Epoch 10/50\n",
      " - 0s - loss: 0.5873 - acc: 0.7094\n",
      "Epoch 11/50\n",
      " - 0s - loss: 0.5718 - acc: 0.7094\n",
      "Epoch 12/50\n",
      " - 0s - loss: 0.5559 - acc: 0.7198\n",
      "Epoch 13/50\n",
      " - 0s - loss: 0.5405 - acc: 0.7281\n",
      "Epoch 14/50\n",
      " - 0s - loss: 0.5253 - acc: 0.7437\n",
      "Epoch 15/50\n",
      " - 0s - loss: 0.5114 - acc: 0.7677\n",
      "Epoch 16/50\n",
      " - 0s - loss: 0.4974 - acc: 0.7740\n",
      "Epoch 17/50\n",
      " - 0s - loss: 0.4834 - acc: 0.7802\n",
      "Epoch 18/50\n",
      " - 0s - loss: 0.4707 - acc: 0.7927\n",
      "Epoch 19/50\n",
      " - 0s - loss: 0.4575 - acc: 0.7979\n",
      "Epoch 20/50\n",
      " - 0s - loss: 0.4448 - acc: 0.8135\n",
      "Epoch 21/50\n",
      " - 0s - loss: 0.4321 - acc: 0.8208\n",
      "Epoch 22/50\n",
      " - 0s - loss: 0.4205 - acc: 0.8302\n",
      "Epoch 23/50\n",
      " - 0s - loss: 0.4072 - acc: 0.8375\n",
      "Epoch 24/50\n",
      " - 0s - loss: 0.3960 - acc: 0.8458\n",
      "Epoch 25/50\n",
      " - 0s - loss: 0.3848 - acc: 0.8531\n",
      "Epoch 26/50\n",
      " - 0s - loss: 0.3739 - acc: 0.8594\n",
      "Epoch 27/50\n",
      " - 0s - loss: 0.3637 - acc: 0.8656\n",
      "Epoch 28/50\n",
      " - 0s - loss: 0.3533 - acc: 0.8708\n",
      "Epoch 29/50\n",
      " - 0s - loss: 0.3430 - acc: 0.8792\n",
      "Epoch 30/50\n",
      " - 0s - loss: 0.3340 - acc: 0.8823\n",
      "Epoch 31/50\n",
      " - 0s - loss: 0.3244 - acc: 0.8854\n",
      "Epoch 32/50\n",
      " - 0s - loss: 0.3158 - acc: 0.8917\n",
      "Epoch 33/50\n",
      " - 0s - loss: 0.3082 - acc: 0.8896\n",
      "Epoch 34/50\n",
      " - 0s - loss: 0.3009 - acc: 0.8938\n",
      "Epoch 35/50\n",
      " - 0s - loss: 0.2913 - acc: 0.8990\n",
      "Epoch 36/50\n",
      " - 0s - loss: 0.2830 - acc: 0.8990\n",
      "Epoch 37/50\n",
      " - 0s - loss: 0.2754 - acc: 0.9021\n",
      "Epoch 38/50\n",
      " - 0s - loss: 0.2692 - acc: 0.9052\n",
      "Epoch 39/50\n",
      " - 0s - loss: 0.2606 - acc: 0.9062\n",
      "Epoch 40/50\n",
      " - 0s - loss: 0.2540 - acc: 0.9073\n",
      "Epoch 41/50\n",
      " - 0s - loss: 0.2466 - acc: 0.9135\n",
      "Epoch 42/50\n",
      " - 0s - loss: 0.2399 - acc: 0.9219\n",
      "Epoch 43/50\n",
      " - 0s - loss: 0.2332 - acc: 0.9292\n",
      "Epoch 44/50\n",
      " - 0s - loss: 0.2268 - acc: 0.9271\n",
      "Epoch 45/50\n",
      " - 0s - loss: 0.2201 - acc: 0.9323\n",
      "Epoch 46/50\n",
      " - 0s - loss: 0.2138 - acc: 0.9323\n",
      "Epoch 47/50\n",
      " - 0s - loss: 0.2066 - acc: 0.9344\n",
      "Epoch 48/50\n",
      " - 0s - loss: 0.2001 - acc: 0.9396\n",
      "Epoch 49/50\n",
      " - 0s - loss: 0.1946 - acc: 0.9406\n",
      "Epoch 50/50\n",
      " - 0s - loss: 0.1890 - acc: 0.9396\n"
     ]
    },
    {
     "data": {
      "text/plain": [
       "<keras.callbacks.History at 0x1cabc0d22e8>"
      ]
     },
     "execution_count": 35,
     "metadata": {},
     "output_type": "execute_result"
    }
   ],
   "source": [
    "model.fit(x=X_trainsc,y=y_train,epochs=50,verbose=2)"
   ]
  },
  {
   "cell_type": "code",
   "execution_count": 37,
   "metadata": {},
   "outputs": [],
   "source": [
    "pred = model.predict_classes(X_test)"
   ]
  },
  {
   "cell_type": "code",
   "execution_count": 38,
   "metadata": {},
   "outputs": [
    {
     "name": "stdout",
     "output_type": "stream",
     "text": [
      "[[190  39]\n",
      " [  3 180]]\n"
     ]
    }
   ],
   "source": [
    "print(confusion_matrix(y_test,pred))"
   ]
  },
  {
   "cell_type": "code",
   "execution_count": 39,
   "metadata": {},
   "outputs": [
    {
     "name": "stdout",
     "output_type": "stream",
     "text": [
      "             precision    recall  f1-score   support\n",
      "\n",
      "        0.0       0.98      0.83      0.90       229\n",
      "        1.0       0.82      0.98      0.90       183\n",
      "\n",
      "avg / total       0.91      0.90      0.90       412\n",
      "\n"
     ]
    }
   ],
   "source": [
    "print(classification_report(y_test,pred))"
   ]
  },
  {
   "cell_type": "code",
   "execution_count": null,
   "metadata": {},
   "outputs": [],
   "source": []
  }
 ],
 "metadata": {
  "kernelspec": {
   "display_name": "Python 3",
   "language": "python",
   "name": "python3"
  },
  "language_info": {
   "codemirror_mode": {
    "name": "ipython",
    "version": 3
   },
   "file_extension": ".py",
   "mimetype": "text/x-python",
   "name": "python",
   "nbconvert_exporter": "python",
   "pygments_lexer": "ipython3",
   "version": "3.6.6"
  }
 },
 "nbformat": 4,
 "nbformat_minor": 2
}
